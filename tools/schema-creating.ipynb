{
 "cells": [
  {
   "cell_type": "markdown",
   "id": "5d6ff5e3",
   "metadata": {},
   "source": [
    "# Schema Export Notebook\n",
    "Exportiere alle `CREATE TABLE`- und `CREATE VIEW`-Statements aus der MySQL-Datenbank und speichere sie in einer SQL-Datei."
   ]
  },
  {
   "cell_type": "code",
   "execution_count": 3,
   "id": "448d16e5",
   "metadata": {},
   "outputs": [
    {
     "name": "stdout",
     "output_type": "stream",
     "text": [
      "Schema exportiert nach schema_export.sql\n"
     ]
    }
   ],
   "source": [
    "import os\n",
    "import pymysql\n",
    "\n",
    "# Datenbank-Verbindungsdaten\n",
    "db_host = os.getenv('DB_HOST', 'localhost')\n",
    "db_name = os.getenv('DB_NAME', 'job_tracker')\n",
    "db_user = os.getenv('DB_USER', 'root')\n",
    "db_pass = os.getenv('DB_PASSWORD', '')\n",
    "\n",
    "# Verbindung aufbauen\n",
    "conn = pymysql.connect(host=db_host, user=db_user, password=db_pass, database=db_name)\n",
    "cursor = conn.cursor()\n",
    "\n",
    "# Tabellen und Views abfragen\n",
    "cursor.execute(\"SHOW FULL TABLES WHERE Table_type = 'BASE TABLE' OR Table_type = 'VIEW';\")\n",
    "entries = cursor.fetchall()\n",
    "\n",
    "# Statements sammeln\n",
    "statements = []\n",
    "for table, ttype in entries:\n",
    "    obj = 'VIEW' if ttype.upper() == 'VIEW' else 'TABLE'\n",
    "    # pma__ Tabellen überspringen\n",
    "    if table.startswith('pma__'):\n",
    "        continue\n",
    "    cursor.execute(f\"SHOW CREATE {obj} `{table}`;\")\n",
    "    result = cursor.fetchone()\n",
    "    create_stmt = result[1]\n",
    "    statements.append(create_stmt + ';')\n",
    "\n",
    "# Ausgabedatei schreiben\n",
    "output_path = 'schema_export.sql'\n",
    "with open(output_path, 'w', encoding='utf-8') as f:\n",
    "    f.write('\\n\\n'.join(statements))\n",
    "\n",
    "print(f\"Schema exportiert nach {output_path}\")\n",
    "\n",
    "# Verbindung schließen\n",
    "cursor.close()\n",
    "conn.close()"
   ]
  }
 ],
 "metadata": {
  "kernelspec": {
   "display_name": "Python 3",
   "language": "python",
   "name": "python3"
  },
  "language_info": {
   "codemirror_mode": {
    "name": "ipython",
    "version": 3
   },
   "file_extension": ".py",
   "mimetype": "text/x-python",
   "name": "python",
   "nbconvert_exporter": "python",
   "pygments_lexer": "ipython3",
   "version": "3.12.1"
  }
 },
 "nbformat": 4,
 "nbformat_minor": 5
}
